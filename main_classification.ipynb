{
 "cells": [
  {
   "cell_type": "code",
   "execution_count": 1,
   "id": "bd50f9f4",
   "metadata": {},
   "outputs": [],
   "source": [
    "import SimpleITK as sitk\n",
    "import os\n",
    "from matplotlib import pyplot as plt\n",
    "import numpy as np"
   ]
  },
  {
   "cell_type": "code",
   "execution_count": 2,
   "id": "14cdc7ae",
   "metadata": {},
   "outputs": [],
   "source": [
    "# LABELS : creation of a list of vectors --> manual classification\n",
    "# IMG 53 \n",
    "y_g1_53 = np.zeros(512)\n",
    "y_g1_53[172:214] = 1\n",
    "y_g1_53[311:347] = 1\n",
    "\n",
    "# IMG 54\n",
    "y_g1_54 = np.zeros(512)\n",
    "y_g1_54[160:203] = 1\n",
    "y_g1_54[290:326] = 1\n",
    "\n",
    "# IMG 55 \n",
    "y_g1_55 = np.zeros(512)\n",
    "y_g1_55[180:226] = 1\n",
    "y_g1_55[291:332] = 1\n",
    "\n",
    "# list of vectors (one per image to provide to the function)\n",
    "label = np.concatenate((y_g1_53, y_g1_54, y_g1_55))"
   ]
  },
  {
   "cell_type": "code",
   "execution_count": 3,
   "id": "aa45f4fc",
   "metadata": {},
   "outputs": [],
   "source": [
    "def image_to_slices (image):\n",
    "    \n",
    "    '''\n",
    "    the function takes a 3D image and converts it to sagital slices \n",
    "    It returns a list of slices\n",
    "    \n",
    "    '''\n",
    "    shape = image.GetSize()\n",
    "    image_array = sitk.GetArrayFromImage(image)   \n",
    "    image_slices = []\n",
    "    for i in range (shape[0]):\n",
    "        sl_array = image_array[:,:,i]\n",
    "        # from image to array reverse the image up down \n",
    "        sl_array = np.flipud(sl_array)\n",
    "        image_slices.append(sl_array)\n",
    "    \n",
    "    return image_slices\n"
   ]
  },
  {
   "cell_type": "code",
   "execution_count": 4,
   "outputs": [],
   "source": [
    "def get_slices_from_paths(im_list):\n",
    "    \"\"\"\n",
    "    function to convert image paths list of numpy images of slices\n",
    "    :param im_list: list of paths to .nii.gz images\n",
    "    :return: slice_list: list of 2D numpy arrays containing image slices\n",
    "    \"\"\"\n",
    "    slice_list = []\n",
    "    # each image has to be converted in sagital slice\n",
    "    for j in range(len(im_list)):\n",
    "        # read image\n",
    "        image = sitk.ReadImage(im_list[j], sitk.sitkFloat32, imageIO=\"NiftiImageIO\")\n",
    "        # create a list of slices\n",
    "        slice_list += image_to_slices(image)\n",
    "\n",
    "    return slice_list"
   ],
   "metadata": {
    "collapsed": false
   }
  },
  {
   "cell_type": "code",
   "execution_count": 5,
   "outputs": [],
   "source": [
    "import cv2\n",
    "def preprocess_images(image, input_size):\n",
    "    \"\"\"\n",
    "    Function to preprocess slices of image.\n",
    "    :param image: list of 2D numpy arrays that contain saggital slices of hip/femur as numpy array\n",
    "    :param input_size: input shape of image to reshape\n",
    "    :return:\n",
    "    \"\"\"\n",
    "    input_size = (input_size[1], input_size[0]) # opencv takes y first and then x\n",
    "    image_preprocessed = [cv2.resize(slice, input_size) for slice in image]\n",
    "    image_preprocessed = [(slice - np.min(slice)) / (np.max(slice) - np.min(slice)) for slice in image_preprocessed]\n",
    "    image_preprocessed = [slice[..., np.newaxis] for slice in image_preprocessed]\n",
    "\n",
    "    print(image_preprocessed[0].max())\n",
    "\n",
    "    return image_preprocessed"
   ],
   "metadata": {
    "collapsed": false
   }
  },
  {
   "cell_type": "code",
   "execution_count": 6,
   "outputs": [],
   "source": [
    "import tensorflow as tf\n",
    "import keras\n",
    "from keras.models import Sequential\n",
    "from keras.layers import Dense, Dropout, Flatten\n",
    "from keras.layers import Conv2D, MaxPooling2D, BatchNormalization\n",
    "from keras import backend as K\n",
    "from keras import applications, Model\n",
    "\n",
    "def GetLeNet(n_base=32, input_shape=(128, 128, 1)):\n",
    "    \"\"\"Definition of leNet tensor flow network architecture\n",
    "    \"\"\"\n",
    "    # Building the following LeNet architecture step by step\n",
    "    model = Sequential()\n",
    "    # First layer: 32 2D convolutional with size of 3by3 with \"rectified linear unit\" as activation function.\n",
    "    model.add(Conv2D(n_base, kernel_size=(3, 3), activation='relu',  strides=1, padding='same', input_shape=input_shape))\n",
    "    model.add(BatchNormalization())\n",
    "    # Second layer: 2D layer: pooling layer (max-pooling) with the size of 2by2\n",
    "    model.add(MaxPooling2D(pool_size=(2, 2)))\n",
    "    # 3rd layer: 64 2D convolutional with size of 3by3 with \"rectified linear unit\" as activation function.\n",
    "    model.add(Conv2D(2*n_base, (3, 3), activation='relu', strides=1, padding='same'))\n",
    "    model.add(BatchNormalization())\n",
    "    # 4th layer: pooling layer (max-pooling) with the size of 2by2\n",
    "    model.add(MaxPooling2D(pool_size=(2, 2)))\n",
    "    # Vectorize the resulted image\n",
    "    model.add(Flatten())\n",
    "    # 5th layer: fully-connected layer (Dense) with the 128 nodes and \"rectified linear unit\" as activation function.\n",
    "    model.add(Dense(4*n_base, activation='relu'))\n",
    "    model.add(Dropout(0.6))\n",
    "\n",
    "    model.add(Dense(1, activation='sigmoid'))\n",
    "    model.summary()\n",
    "    return model"
   ],
   "metadata": {
    "collapsed": false
   }
  },
  {
   "cell_type": "code",
   "execution_count": 18,
   "outputs": [],
   "source": [
    "import tensorflow\n",
    "def train_classifier(im_list, labels_list):\n",
    "    \"\"\"\n",
    "\n",
    "    :param im_list: list of numpy 2D arrays slices of ct images\n",
    "    :param labels_list: list of binary label whether or not images contain structure of interest\n",
    "    :return: model: trained classifier that detects if structure is present\n",
    "             shape: shape of input\n",
    "    \"\"\"\n",
    "\n",
    "\n",
    "    '''\n",
    "    train classifier\n",
    "    NB --> sagital slices of different images have different size in y direction\n",
    "    '''\n",
    "    epochs = 30\n",
    "    batch_size = 32\n",
    "    shape  = im_list[0].shape\n",
    "    images_preprocessed = np.array(preprocess_images(im_list, shape))\n",
    "\n",
    "    #x_train = np.array(images_preprocessed[0:1024])\n",
    "    #y_train = np.array(labels_list[0:1024])\n",
    "    #x_val = np.array(images_preprocessed[1024:])\n",
    "    #y_val = np.array(labels_list[1024:])\n",
    "\n",
    "    model = GetLeNet(n_base=16, input_shape=(shape[0], shape[1], 1))\n",
    "    model.compile(loss=keras.losses.BinaryCrossentropy(from_logits=True),\n",
    "              optimizer=tf.keras.optimizers.Adam(learning_rate=0.0001),\n",
    "              metrics=['accuracy'])\n",
    "    model.fit(x=images_preprocessed, y=labels_list,\n",
    "              batch_size=batch_size,\n",
    "              #validation_data=(x_val, y_val),\n",
    "              epochs=epochs,verbose=1)\n",
    "\n",
    "    return model, shape\n",
    "\n"
   ],
   "metadata": {
    "collapsed": false
   }
  },
  {
   "cell_type": "code",
   "execution_count": 19,
   "id": "84a400e3",
   "metadata": {},
   "outputs": [
    {
     "name": "stdout",
     "output_type": "stream",
     "text": [
      "['data/GROUP_images/g1_53_image.nii.gz', 'data/GROUP_images/g1_54_image.nii.gz', 'data/GROUP_images/g1_55_image.nii.gz']\n",
      "1.0\n",
      "Model: \"sequential_2\"\n",
      "_________________________________________________________________\n",
      " Layer (type)                Output Shape              Param #   \n",
      "=================================================================\n",
      " conv2d_4 (Conv2D)           (None, 311, 512, 16)      160       \n",
      "                                                                 \n",
      " batch_normalization_4 (Batc  (None, 311, 512, 16)     64        \n",
      " hNormalization)                                                 \n",
      "                                                                 \n",
      " max_pooling2d_4 (MaxPooling  (None, 155, 256, 16)     0         \n",
      " 2D)                                                             \n",
      "                                                                 \n",
      " conv2d_5 (Conv2D)           (None, 155, 256, 32)      4640      \n",
      "                                                                 \n",
      " batch_normalization_5 (Batc  (None, 155, 256, 32)     128       \n",
      " hNormalization)                                                 \n",
      "                                                                 \n",
      " max_pooling2d_5 (MaxPooling  (None, 77, 128, 32)      0         \n",
      " 2D)                                                             \n",
      "                                                                 \n",
      " flatten_2 (Flatten)         (None, 315392)            0         \n",
      "                                                                 \n",
      " dense_4 (Dense)             (None, 64)                20185152  \n",
      "                                                                 \n",
      " dropout_2 (Dropout)         (None, 64)                0         \n",
      "                                                                 \n",
      " dense_5 (Dense)             (None, 1)                 65        \n",
      "                                                                 \n",
      "=================================================================\n",
      "Total params: 20,190,209\n",
      "Trainable params: 20,190,113\n",
      "Non-trainable params: 96\n",
      "_________________________________________________________________\n",
      "Epoch 1/30\n"
     ]
    },
    {
     "name": "stderr",
     "output_type": "stream",
     "text": [
      "/Users/lasse/miniforge3/envs/cm2003/lib/python3.10/site-packages/tensorflow/python/util/dispatch.py:1096: UserWarning: \"`binary_crossentropy` received `from_logits=True`, but the `output` argument was produced by a sigmoid or softmax activation and thus does not represent logits. Was this intended?\"\n",
      "  return dispatch_target(*args, **kwargs)\n",
      "2023-01-08 20:30:29.270122: I tensorflow/core/grappler/optimizers/custom_graph_optimizer_registry.cc:112] Plugin optimizer for device_type GPU is enabled.\n"
     ]
    },
    {
     "name": "stdout",
     "output_type": "stream",
     "text": [
      "48/48 [==============================] - 14s 244ms/step - loss: 0.8667 - accuracy: 0.8385\n",
      "Epoch 2/30\n",
      "48/48 [==============================] - 12s 256ms/step - loss: 0.2343 - accuracy: 0.8574\n",
      "Epoch 3/30\n",
      "48/48 [==============================] - 12s 246ms/step - loss: 0.2099 - accuracy: 0.8438\n",
      "Epoch 4/30\n",
      "48/48 [==============================] - 12s 248ms/step - loss: 0.1829 - accuracy: 0.8646\n",
      "Epoch 5/30\n",
      "48/48 [==============================] - 12s 246ms/step - loss: 0.1751 - accuracy: 0.8945\n",
      "Epoch 6/30\n",
      "48/48 [==============================] - 12s 246ms/step - loss: 0.1706 - accuracy: 0.9141\n",
      "Epoch 7/30\n",
      "48/48 [==============================] - 12s 247ms/step - loss: 0.1487 - accuracy: 0.9212\n",
      "Epoch 8/30\n",
      "48/48 [==============================] - 12s 246ms/step - loss: 0.1311 - accuracy: 0.9290\n",
      "Epoch 9/30\n",
      "48/48 [==============================] - 12s 246ms/step - loss: 0.1127 - accuracy: 0.9323\n",
      "Epoch 10/30\n",
      "48/48 [==============================] - 12s 259ms/step - loss: 0.1002 - accuracy: 0.9368\n",
      "Epoch 11/30\n",
      "48/48 [==============================] - 12s 248ms/step - loss: 0.0968 - accuracy: 0.9466\n",
      "Epoch 12/30\n",
      "48/48 [==============================] - 12s 251ms/step - loss: 0.1157 - accuracy: 0.9414\n",
      "Epoch 13/30\n",
      "48/48 [==============================] - 12s 250ms/step - loss: 0.1194 - accuracy: 0.9199\n",
      "Epoch 14/30\n",
      "48/48 [==============================] - 12s 248ms/step - loss: 0.1296 - accuracy: 0.9323\n",
      "Epoch 15/30\n",
      "48/48 [==============================] - 12s 253ms/step - loss: 0.2088 - accuracy: 0.9297\n",
      "Epoch 16/30\n",
      "48/48 [==============================] - 12s 251ms/step - loss: 0.1937 - accuracy: 0.9023\n",
      "Epoch 17/30\n",
      "48/48 [==============================] - 12s 244ms/step - loss: 0.1244 - accuracy: 0.9206\n",
      "Epoch 18/30\n",
      "48/48 [==============================] - 12s 248ms/step - loss: 0.0992 - accuracy: 0.9277\n",
      "Epoch 19/30\n",
      "48/48 [==============================] - 12s 244ms/step - loss: 0.0850 - accuracy: 0.9447\n",
      "Epoch 20/30\n",
      "48/48 [==============================] - 12s 245ms/step - loss: 0.1201 - accuracy: 0.9329\n",
      "Epoch 21/30\n",
      "48/48 [==============================] - 12s 244ms/step - loss: 0.1552 - accuracy: 0.9297\n",
      "Epoch 22/30\n",
      "48/48 [==============================] - 12s 246ms/step - loss: 0.0839 - accuracy: 0.9479\n",
      "Epoch 23/30\n",
      "48/48 [==============================] - 12s 245ms/step - loss: 0.0989 - accuracy: 0.9362\n",
      "Epoch 24/30\n",
      "48/48 [==============================] - 12s 247ms/step - loss: 0.0847 - accuracy: 0.9525\n",
      "Epoch 25/30\n",
      "48/48 [==============================] - 12s 244ms/step - loss: 0.0844 - accuracy: 0.9492\n",
      "Epoch 26/30\n",
      "48/48 [==============================] - 11s 239ms/step - loss: 0.0757 - accuracy: 0.9518\n",
      "Epoch 27/30\n",
      "48/48 [==============================] - 11s 239ms/step - loss: 0.0894 - accuracy: 0.9479\n",
      "Epoch 28/30\n",
      "48/48 [==============================] - 12s 242ms/step - loss: 0.0759 - accuracy: 0.9544\n",
      "Epoch 29/30\n",
      "48/48 [==============================] - 11s 239ms/step - loss: 0.0737 - accuracy: 0.9551\n",
      "Epoch 30/30\n",
      "48/48 [==============================] - 11s 240ms/step - loss: 0.0786 - accuracy: 0.9557\n"
     ]
    }
   ],
   "source": [
    "atlas_images_base = os.path.join(\"data\", \"GROUP_images\")\n",
    "files_images = os.listdir(atlas_images_base)\n",
    "atlas_images = [os.path.join(atlas_images_base, fil) for fil in files_images if \".nii\" in fil]\n",
    "print(atlas_images)\n",
    "atlas_images.sort()\n",
    "slices = get_slices_from_paths(atlas_images)\n",
    "model, shape = train_classifier(slices, label)"
   ]
  },
  {
   "cell_type": "code",
   "execution_count": 33,
   "id": "8583984b",
   "metadata": {},
   "outputs": [
    {
     "name": "stdout",
     "output_type": "stream",
     "text": [
      "data/COMMON_images_masks/common_42_image.nii.gz\n",
      "1.0\n"
     ]
    },
    {
     "data": {
      "text/plain": "<Figure size 640x480 with 1 Axes>",
      "image/png": "[encoded data removed]"
     },
     "metadata": {},
     "output_type": "display_data"
    }
   ],
   "source": [
    "common_images_base = os.path.join(\"data\", \"COMMON_images_masks\")\n",
    "files_common_images = os.listdir(common_images_base)\n",
    "files_common_images = [os.path.join(common_images_base, fil) for fil in files_common_images if \".nii\" in fil and \"image\" in fil]\n",
    "print(files_common_images[2])\n",
    "\n",
    "slices = get_slices_from_paths([files_common_images[0]])\n",
    "images_preprocessed = preprocess_images(slices, shape)\n",
    "y_pred = model.predict(np.array(images_preprocessed))\n",
    "\n",
    "import matplotlib.pyplot as plt\n",
    "plt.plot(range(len(y_pred)), y_pred)\n",
    "plt.show()"
   ]
  },
  {
   "cell_type": "code",
   "execution_count": 30,
   "outputs": [
    {
     "name": "stdout",
     "output_type": "stream",
     "text": [
      "1\n"
     ]
    }
   ],
   "source": [],
   "metadata": {
    "collapsed": false
   }
  },
  {
   "cell_type": "code",
   "execution_count": null,
   "id": "bb68a9ed",
   "metadata": {},
   "outputs": [],
   "source": [
    "\n",
    "\n",
    "\n",
    "'''\n",
    "# load group image \n",
    "im_base_dir = os.path.join(\"data\", \"GROUP_images\")\n",
    "g1_53_image = sitk.ReadImage(os.path.join(im_base_dir, \"g1_53_image.nii.gz\"), sitk.sitkFloat32, imageIO=\"NiftiImageIO\")\n",
    "g1_54_image = sitk.ReadImage(os.path.join(im_base_dir, \"g1_54_image.nii.gz\"), sitk.sitkFloat32, imageIO=\"NiftiImageIO\")\n",
    "g1_55_image = sitk.ReadImage(os.path.join(im_base_dir, \"g1_55_image.nii.gz\"), sitk.sitkFloat32, imageIO=\"NiftiImageIO\")\n",
    "\n",
    "# different size!!!!\n",
    "print(g1_55_image.GetSize())\n",
    "print(g1_54_image.GetSize())\n",
    "print(g1_53_image.GetSize())\n",
    "\n",
    "g1_53_slices = image_to_slices(g1_53_image)\n",
    "g1_54_slices = image_to_slices(g1_54_image)\n",
    "g1_55_slices = image_to_slices(g1_55_image)\n",
    "\n",
    "\n",
    "#slices = g1_53_slices + g1_54_slices + g1_55_slices\n",
    "\n",
    "'''"
   ]
  },
  {
   "cell_type": "code",
   "execution_count": null,
   "outputs": [],
   "source": [],
   "metadata": {
    "collapsed": false
   }
  }
 ],
 "metadata": {
  "kernelspec": {
   "display_name": "Python 3 (ipykernel)",
   "language": "python",
   "name": "python3"
  },
  "language_info": {
   "codemirror_mode": {
    "name": "ipython",
    "version": 3
   },
   "file_extension": ".py",
   "mimetype": "text/x-python",
   "name": "python",
   "nbconvert_exporter": "python",
   "pygments_lexer": "ipython3",
   "version": "3.8.12"
  }
 },
 "nbformat": 4,
 "nbformat_minor": 5
}
