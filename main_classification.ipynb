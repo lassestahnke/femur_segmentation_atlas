{
 "cells": [
  {
   "cell_type": "code",
   "execution_count": 2,
   "id": "bd50f9f4",
   "metadata": {},
   "outputs": [],
   "source": [
    "import SimpleITK as sitk\n",
    "import os\n",
    "from matplotlib import pyplot as plt\n",
    "import numpy as np"
   ]
  },
  {
   "cell_type": "code",
   "execution_count": 3,
   "id": "14cdc7ae",
   "metadata": {},
   "outputs": [],
   "source": [
    "# LABELS : creation of a list of vectors --> manual classification\n",
    "# IMG 53 \n",
    "y_g1_53 = np.zeros(512)\n",
    "y_g1_53[172:214] = 1\n",
    "y_g1_53[311:347] = 1\n",
    "\n",
    "# IMG 54\n",
    "y_g1_54 = np.zeros(512)\n",
    "y_g1_54[160:203] = 1\n",
    "y_g1_54[290:326] = 1\n",
    "\n",
    "# IMG 55 \n",
    "y_g1_55 = np.zeros(512)\n",
    "y_g1_55[180:226] = 1\n",
    "y_g1_55[291:332] = 1\n",
    "\n",
    "# list of vectors (one per image to provide to the function)\n",
    "label = [y_g1_53, y_g1_54, y_g1_55]"
   ]
  },
  {
   "cell_type": "code",
   "execution_count": 4,
   "id": "aa45f4fc",
   "metadata": {},
   "outputs": [],
   "source": [
    "def image_to_slices (image):\n",
    "    \n",
    "    '''\n",
    "    the function takes a 3D image and converts it to sagital slices \n",
    "    It returns a list of slices\n",
    "    \n",
    "    '''\n",
    "    shape = image.GetSize()\n",
    "    image_array = sitk.GetArrayFromImage(image)   \n",
    "    image_slices = []\n",
    "    for i in range (shape[0]):\n",
    "        sl_array = image_array[:,:,i]\n",
    "        # from image to array reverse the image up down \n",
    "        sl_array = np.flipud(sl_array)\n",
    "        image_slices.append(sl_array)\n",
    "    \n",
    "    return image_slices\n"
   ]
  },
  {
   "cell_type": "code",
   "execution_count": 5,
   "outputs": [],
   "source": [
    "def get_slices_from_paths(im_list):\n",
    "    \"\"\"\n",
    "    function to convert image paths list of numpy images of slices\n",
    "    :param im_list: list of paths to .nii.gz images\n",
    "    :return: slice_list: list of 2D numpy arrays containing image slices\n",
    "    \"\"\"\n",
    "    slice_list = []\n",
    "    # each image has to be converted in sagital slice\n",
    "    for j in range(len(im_list)):\n",
    "        # read image\n",
    "        image = sitk.ReadImage(im_list[j], sitk.sitkFloat32, imageIO=\"NiftiImageIO\")\n",
    "        # create a list of slices\n",
    "        slice_list += image_to_slices(image)\n",
    "\n",
    "    return slice_list"
   ],
   "metadata": {
    "collapsed": false
   }
  },
  {
   "cell_type": "code",
   "execution_count": 6,
   "outputs": [],
   "source": [
    "def preprocess_images(image, input_size):\n",
    "    \"\"\"\n",
    "    Function to preprocess slices of image.\n",
    "    :param image: list of 2D numpy arrays that contain saggital slices of hip/femur as numpy array\n",
    "    :param input_size: input shape of image to reshape\n",
    "    :return:\n",
    "    \"\"\"\n",
    "    image_preprocessed = [np.reshape(slice, input_size) for slice in image]\n",
    "    image_preprocessed = [(slice - np.min(slice)) / (np.max(slice) - np.min(slice)) for slice in image_preprocessed]\n",
    "    return image_preprocessed"
   ],
   "metadata": {
    "collapsed": false
   }
  },
  {
   "cell_type": "code",
   "execution_count": 13,
   "outputs": [],
   "source": [
    "import keras\n",
    "from keras.models import Sequential\n",
    "from keras.layers import Dense, Dropout, Flatten\n",
    "from keras.layers import Conv2D, MaxPooling2D\n",
    "from keras import backend as K\n",
    "from keras import applications, Model\n",
    "\n",
    "def GetLeNet(n_base=32, input_shape=(128, 128)):\n",
    "    \"\"\"Definition of leNet tensor flow network architecture\n",
    "    \"\"\"\n",
    "    # Building the following LeNet architecture step by step\n",
    "    model = Sequential()\n",
    "    # First layer: 32 2D convolutional with size of 3by3 with \"rectified linear unit\" as activation function.\n",
    "    model.add(Conv2D(n_base, kernel_size=(3, 3), activation='relu',  strides=1, padding='same', input_shape=input_shape))\n",
    "    # Second layer: 2D layer: pooling layer (max-pooling) with the size of 2by2\n",
    "    model.add(MaxPooling2D(pool_size=(2, 2)))\n",
    "    # 3rd layer: 64 2D convolutional with size of 3by3 with \"rectified linear unit\" as activation function.\n",
    "    model.add(Conv2D(2*n_base, (3, 3), activation='relu', strides=1, padding='same'))\n",
    "    # 4th layer: pooling layer (max-pooling) with the size of 2by2\n",
    "    model.add(MaxPooling2D(pool_size=(2, 2)))\n",
    "    # Vectorize the resulted image\n",
    "    model.add(Flatten())\n",
    "    # 5th layer: fully-connected layer (Dense) with the 128 nodes and \"rectified linear unit\" as activation function.\n",
    "    model.add(Dense(4*n_base, activation='relu'))\n",
    "    model.add(Dense(1, activation='sigmoid'))\n",
    "    model.summary()\n",
    "    return model"
   ],
   "metadata": {
    "collapsed": false
   }
  },
  {
   "cell_type": "code",
   "execution_count": 14,
   "outputs": [],
   "source": [
    "def train_classifier(im_list, labels_list):\n",
    "    \"\"\"\n",
    "\n",
    "    :param im_list: list of numpy 2D arrays slices of ct images\n",
    "    :param labels_list: list of binary label whether or not images contain structure of interest\n",
    "    :return: model: trained classifier that detects if structure is present\n",
    "             shape: shape of input\n",
    "    \"\"\"\n",
    "\n",
    "\n",
    "    '''\n",
    "    train classifier\n",
    "    NB --> sagital slices of different images have different size in y direction\n",
    "    '''\n",
    "    shape  = im_list[0].shape()\n",
    "    images_preprocessed = preprocess_images(im_list, shape)\n",
    "    model = GetLeNet(n_base=32, input_shape=shape)\n",
    "    model.compile(loss=keras.losses.categorical_crossentropy,\n",
    "              optimizer=keras.optimizers.SGD(lr=0.01, momentum=0.0, decay=0.0),\n",
    "              metrics=['accuracy'])\n",
    "\n",
    "    return model, shape\n",
    "\n"
   ],
   "metadata": {
    "collapsed": false
   }
  },
  {
   "cell_type": "code",
   "execution_count": 9,
   "id": "84a400e3",
   "metadata": {},
   "outputs": [
    {
     "ename": "AttributeError",
     "evalue": "'str' object has no attribute 'shape'",
     "output_type": "error",
     "traceback": [
      "\u001B[0;31m---------------------------------------------------------------------------\u001B[0m",
      "\u001B[0;31mAttributeError\u001B[0m                            Traceback (most recent call last)",
      "Input \u001B[0;32mIn [9]\u001B[0m, in \u001B[0;36m<cell line: 5>\u001B[0;34m()\u001B[0m\n\u001B[1;32m      3\u001B[0m atlas_images \u001B[38;5;241m=\u001B[39m [os\u001B[38;5;241m.\u001B[39mpath\u001B[38;5;241m.\u001B[39mjoin(atlas_images_base, fil) \u001B[38;5;28;01mfor\u001B[39;00m fil \u001B[38;5;129;01min\u001B[39;00m files_images \u001B[38;5;28;01mif\u001B[39;00m \u001B[38;5;124m\"\u001B[39m\u001B[38;5;124m.nii\u001B[39m\u001B[38;5;124m\"\u001B[39m \u001B[38;5;129;01min\u001B[39;00m fil]\n\u001B[1;32m      4\u001B[0m atlas_images\u001B[38;5;241m.\u001B[39msort()\n\u001B[0;32m----> 5\u001B[0m slice_list \u001B[38;5;241m=\u001B[39m \u001B[43mtrain_classifier\u001B[49m\u001B[43m(\u001B[49m\u001B[43matlas_images\u001B[49m\u001B[43m,\u001B[49m\u001B[43m \u001B[49m\u001B[43mlabel\u001B[49m\u001B[43m)\u001B[49m\n",
      "Input \u001B[0;32mIn [8]\u001B[0m, in \u001B[0;36mtrain_classifier\u001B[0;34m(im_list, labels_list)\u001B[0m\n\u001B[1;32m      2\u001B[0m \u001B[38;5;124;03m\"\"\"\u001B[39;00m\n\u001B[1;32m      3\u001B[0m \n\u001B[1;32m      4\u001B[0m \u001B[38;5;124;03m:param im_list: list of numpy 2D arrays slices of ct images\u001B[39;00m\n\u001B[0;32m   (...)\u001B[0m\n\u001B[1;32m      7\u001B[0m \u001B[38;5;124;03m         shape: shape of input\u001B[39;00m\n\u001B[1;32m      8\u001B[0m \u001B[38;5;124;03m\"\"\"\u001B[39;00m\n\u001B[1;32m     11\u001B[0m \u001B[38;5;124;03m'''\u001B[39;00m\n\u001B[1;32m     12\u001B[0m \u001B[38;5;124;03mtrain classifier\u001B[39;00m\n\u001B[1;32m     13\u001B[0m \u001B[38;5;124;03mNB --> sagital slices of different images have different size in y direction\u001B[39;00m\n\u001B[1;32m     14\u001B[0m \u001B[38;5;124;03m'''\u001B[39;00m\n\u001B[0;32m---> 15\u001B[0m shape  \u001B[38;5;241m=\u001B[39m \u001B[43mim_list\u001B[49m\u001B[43m[\u001B[49m\u001B[38;5;241;43m0\u001B[39;49m\u001B[43m]\u001B[49m\u001B[38;5;241;43m.\u001B[39;49m\u001B[43mshape\u001B[49m()\n\u001B[1;32m     16\u001B[0m images_preprocessed \u001B[38;5;241m=\u001B[39m preprocess_images(im_list, shape)\n\u001B[1;32m     19\u001B[0m \u001B[38;5;28;01mreturn\u001B[39;00m slice_list, shape\n",
      "\u001B[0;31mAttributeError\u001B[0m: 'str' object has no attribute 'shape'"
     ]
    }
   ],
   "source": [
    "atlas_images_base = os.path.join(\"data\", \"GROUP_images\")\n",
    "files_images = os.listdir(atlas_images_base)\n",
    "atlas_images = [os.path.join(atlas_images_base, fil) for fil in files_images if \".nii\" in fil]\n",
    "atlas_images.sort()\n",
    "slice_list = train_classifier(atlas_images, label)"
   ]
  },
  {
   "cell_type": "code",
   "execution_count": null,
   "id": "8583984b",
   "metadata": {},
   "outputs": [],
   "source": [
    "print(len(slice_list))\n",
    "sitk.Show(slice_list[1204]) # slice 181 img 55  simple itk\n"
   ]
  },
  {
   "cell_type": "code",
   "execution_count": null,
   "id": "bb68a9ed",
   "metadata": {},
   "outputs": [],
   "source": [
    "\n",
    "\n",
    "\n",
    "'''\n",
    "# load group image \n",
    "im_base_dir = os.path.join(\"data\", \"GROUP_images\")\n",
    "g1_53_image = sitk.ReadImage(os.path.join(im_base_dir, \"g1_53_image.nii.gz\"), sitk.sitkFloat32, imageIO=\"NiftiImageIO\")\n",
    "g1_54_image = sitk.ReadImage(os.path.join(im_base_dir, \"g1_54_image.nii.gz\"), sitk.sitkFloat32, imageIO=\"NiftiImageIO\")\n",
    "g1_55_image = sitk.ReadImage(os.path.join(im_base_dir, \"g1_55_image.nii.gz\"), sitk.sitkFloat32, imageIO=\"NiftiImageIO\")\n",
    "\n",
    "# different size!!!!\n",
    "print(g1_55_image.GetSize())\n",
    "print(g1_54_image.GetSize())\n",
    "print(g1_53_image.GetSize())\n",
    "\n",
    "g1_53_slices = image_to_slices(g1_53_image)\n",
    "g1_54_slices = image_to_slices(g1_54_image)\n",
    "g1_55_slices = image_to_slices(g1_55_image)\n",
    "\n",
    "\n",
    "#slices = g1_53_slices + g1_54_slices + g1_55_slices\n",
    "\n",
    "'''"
   ]
  }
 ],
 "metadata": {
  "kernelspec": {
   "display_name": "Python 3 (ipykernel)",
   "language": "python",
   "name": "python3"
  },
  "language_info": {
   "codemirror_mode": {
    "name": "ipython",
    "version": 3
   },
   "file_extension": ".py",
   "mimetype": "text/x-python",
   "name": "python",
   "nbconvert_exporter": "python",
   "pygments_lexer": "ipython3",
   "version": "3.8.12"
  }
 },
 "nbformat": 4,
 "nbformat_minor": 5
}
