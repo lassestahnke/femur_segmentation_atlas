{
 "cells": [
  {
   "cell_type": "code",
   "execution_count": 1,
   "id": "bd50f9f4",
   "metadata": {},
   "outputs": [],
   "source": [
    "import SimpleITK as sitk\n",
    "import os\n",
    "from matplotlib import pyplot as plt\n",
    "import numpy as np"
   ]
  },
  {
   "cell_type": "code",
   "execution_count": 2,
   "id": "14cdc7ae",
   "metadata": {},
   "outputs": [],
   "source": [
    "# LABELS : creation of a list of vectors --> manual classification\n",
    "# IMG 53 \n",
    "y_g1_53 = np.zeros(512)\n",
    "y_g1_53[172:214] = 1\n",
    "y_g1_53[311:347] = 1\n",
    "\n",
    "# IMG 54\n",
    "y_g1_54 = np.zeros(512)\n",
    "y_g1_54[160:203] = 1\n",
    "y_g1_54[290:326] = 1\n",
    "\n",
    "# IMG 55 \n",
    "y_g1_55 = np.zeros(512)\n",
    "y_g1_55[180:226] = 1\n",
    "y_g1_55[291:332] = 1\n",
    "\n",
    "# list of vectors (one per image to provide to the function)\n",
    "label = np.concatenate((y_g1_53, y_g1_54, y_g1_55))"
   ]
  },
  {
   "cell_type": "code",
   "execution_count": 3,
   "id": "aa45f4fc",
   "metadata": {},
   "outputs": [],
   "source": [
    "def image_to_slices (image):\n",
    "    \n",
    "    '''\n",
    "    the function takes a 3D image and converts it to sagital slices \n",
    "    It returns a list of slices\n",
    "    \n",
    "    '''\n",
    "    shape = image.GetSize()\n",
    "    image_array = sitk.GetArrayFromImage(image)   \n",
    "    image_slices = []\n",
    "    for i in range (shape[0]):\n",
    "        sl_array = image_array[:,:,i]\n",
    "        # from image to array reverse the image up down \n",
    "        sl_array = np.flipud(sl_array)\n",
    "        image_slices.append(sl_array)\n",
    "    \n",
    "    return image_slices\n"
   ]
  },
  {
   "cell_type": "code",
   "execution_count": 4,
   "outputs": [],
   "source": [
    "def get_slices_from_paths(im_list):\n",
    "    \"\"\"\n",
    "    function to convert image paths list of numpy images of slices\n",
    "    :param im_list: list of paths to .nii.gz images\n",
    "    :return: slice_list: list of 2D numpy arrays containing image slices\n",
    "    \"\"\"\n",
    "    slice_list = []\n",
    "    # each image has to be converted in sagital slice\n",
    "    for j in range(len(im_list)):\n",
    "        # read image\n",
    "        image = sitk.ReadImage(im_list[j], sitk.sitkFloat32, imageIO=\"NiftiImageIO\")\n",
    "        # create a list of slices\n",
    "        slice_list += image_to_slices(image)\n",
    "\n",
    "    return slice_list"
   ],
   "metadata": {
    "collapsed": false
   }
  },
  {
   "cell_type": "code",
   "execution_count": 5,
   "outputs": [],
   "source": [
    "import cv2\n",
    "def preprocess_images(image, input_size):\n",
    "    \"\"\"\n",
    "    Function to preprocess slices of image.\n",
    "    :param image: list of 2D numpy arrays that contain saggital slices of hip/femur as numpy array\n",
    "    :param input_size: input shape of image to reshape\n",
    "    :return:\n",
    "    \"\"\"\n",
    "    input_size = (input_size[1], input_size[0]) # opencv takes y first and then x\n",
    "    image_preprocessed = [cv2.resize(slice, input_size) for slice in image]\n",
    "    image_preprocessed = [(slice - np.min(slice)) / (np.max(slice) - np.min(slice)) for slice in image_preprocessed]\n",
    "    image_preprocessed = [slice[..., np.newaxis] for slice in image_preprocessed]\n",
    "\n",
    "    print(image_preprocessed[0].max())\n",
    "\n",
    "    return image_preprocessed"
   ],
   "metadata": {
    "collapsed": false
   }
  },
  {
   "cell_type": "code",
   "execution_count": 6,
   "outputs": [],
   "source": [
    "import tensorflow as tf\n",
    "import keras\n",
    "from keras.models import Sequential\n",
    "from keras.layers import Dense, Dropout, Flatten\n",
    "from keras.layers import Conv2D, MaxPooling2D, BatchNormalization\n",
    "from keras import backend as K\n",
    "from keras import applications, Model\n",
    "\n",
    "def GetLeNet(n_base=32, input_shape=(128, 128, 1)):\n",
    "    \"\"\"Definition of leNet tensor flow network architecture\n",
    "    \"\"\"\n",
    "    # Building the following LeNet architecture step by step\n",
    "    model = Sequential()\n",
    "    # First layer: 32 2D convolutional with size of 3by3 with \"rectified linear unit\" as activation function.\n",
    "    model.add(Conv2D(n_base, kernel_size=(3, 3), activation='relu',  strides=1, padding='same', input_shape=input_shape))\n",
    "    model.add(BatchNormalization())\n",
    "    # Second layer: 2D layer: pooling layer (max-pooling) with the size of 2by2\n",
    "    model.add(MaxPooling2D(pool_size=(2, 2)))\n",
    "    # 3rd layer: 64 2D convolutional with size of 3by3 with \"rectified linear unit\" as activation function.\n",
    "    model.add(Conv2D(2*n_base, (3, 3), activation='relu', strides=1, padding='same'))\n",
    "    model.add(BatchNormalization())\n",
    "    # 4th layer: pooling layer (max-pooling) with the size of 2by2\n",
    "    model.add(MaxPooling2D(pool_size=(2, 2)))\n",
    "    # Vectorize the resulted image\n",
    "    model.add(Flatten())\n",
    "    # 5th layer: fully-connected layer (Dense) with the 128 nodes and \"rectified linear unit\" as activation function.\n",
    "    model.add(Dense(4*n_base, activation='relu'))\n",
    "    model.add(Dropout(0.6))\n",
    "\n",
    "    model.add(Dense(1, activation='sigmoid'))\n",
    "    model.summary()\n",
    "    return model"
   ],
   "metadata": {
    "collapsed": false
   }
  },
  {
   "cell_type": "code",
   "execution_count": 9,
   "outputs": [],
   "source": [
    "import tensorflow\n",
    "def train_classifier(im_list, labels_list):\n",
    "    \"\"\"\n",
    "\n",
    "    :param im_list: list of numpy 2D arrays slices of ct images\n",
    "    :param labels_list: list of binary label whether or not images contain structure of interest\n",
    "    :return: model: trained classifier that detects if structure is present\n",
    "             shape: shape of input\n",
    "    \"\"\"\n",
    "\n",
    "\n",
    "    '''\n",
    "    train classifier\n",
    "    NB --> sagital slices of different images have different size in y direction\n",
    "    '''\n",
    "    epochs = 30\n",
    "    batch_size = 32\n",
    "    shape  = im_list[0].shape\n",
    "    images_preprocessed = preprocess_images(im_list, shape)\n",
    "\n",
    "    x_train = np.array(images_preprocessed[0:1024])\n",
    "    y_train = np.array(labels_list[0:1024])\n",
    "    x_val = np.array(images_preprocessed[1024:])\n",
    "    y_val = np.array(labels_list[1024:])\n",
    "\n",
    "\n",
    "\n",
    "    # shuffle images and labels:\n",
    "    #shffl = list(zip(np.array(images_preprocessed), labels_list))\n",
    "    #random.shuffle(shffl)\n",
    "    #x, y = zip(*shffl)\n",
    "    #x = np.array(x)\n",
    "    #y = np.array(y)\n",
    "    # train validation split\n",
    "    #x_train = x[0:int(0.7*len(x))]\n",
    "    #y_train = y[0:int(0.7*len(x))]\n",
    "\n",
    "    #x_val = x[int(0.7*len(x)):]\n",
    "    #y_val = y[int(0.7*len(x)):]\n",
    "\n",
    "    print(\"debug\")\n",
    "    print(1 - np.sum(y_train)/(len(y_train)))\n",
    "    print(1 - np.sum(y_val)/(len(y_val)))\n",
    "\n",
    "\n",
    "    model = GetLeNet(n_base=16, input_shape=(shape[0], shape[1], 1))\n",
    "    model.compile(loss=keras.losses.BinaryCrossentropy(from_logits=True),\n",
    "              optimizer=tf.keras.optimizers.Adam(learning_rate=0.0001),\n",
    "              metrics=['accuracy'])\n",
    "    model.fit(x=x_train, y=y_train, batch_size=batch_size, validation_data=(x_val, y_val), epochs=epochs,verbose=1)\n",
    "\n",
    "    return model, shape\n",
    "\n"
   ],
   "metadata": {
    "collapsed": false
   }
  },
  {
   "cell_type": "code",
   "execution_count": 10,
   "id": "84a400e3",
   "metadata": {},
   "outputs": [
    {
     "name": "stdout",
     "output_type": "stream",
     "text": [
      "['data/GROUP_images/g1_53_image.nii.gz', 'data/GROUP_images/g1_54_image.nii.gz', 'data/GROUP_images/g1_55_image.nii.gz']\n",
      "1.0\n",
      "debug\n",
      "0.8466796875\n",
      "0.830078125\n",
      "Model: \"sequential_1\"\n",
      "_________________________________________________________________\n",
      " Layer (type)                Output Shape              Param #   \n",
      "=================================================================\n",
      " conv2d_2 (Conv2D)           (None, 311, 512, 16)      160       \n",
      "                                                                 \n",
      " batch_normalization_2 (Batc  (None, 311, 512, 16)     64        \n",
      " hNormalization)                                                 \n",
      "                                                                 \n",
      " max_pooling2d_2 (MaxPooling  (None, 155, 256, 16)     0         \n",
      " 2D)                                                             \n",
      "                                                                 \n",
      " conv2d_3 (Conv2D)           (None, 155, 256, 32)      4640      \n",
      "                                                                 \n",
      " batch_normalization_3 (Batc  (None, 155, 256, 32)     128       \n",
      " hNormalization)                                                 \n",
      "                                                                 \n",
      " max_pooling2d_3 (MaxPooling  (None, 77, 128, 32)      0         \n",
      " 2D)                                                             \n",
      "                                                                 \n",
      " flatten_1 (Flatten)         (None, 315392)            0         \n",
      "                                                                 \n",
      " dense_2 (Dense)             (None, 64)                20185152  \n",
      "                                                                 \n",
      " dropout_1 (Dropout)         (None, 64)                0         \n",
      "                                                                 \n",
      " dense_3 (Dense)             (None, 1)                 65        \n",
      "                                                                 \n",
      "=================================================================\n",
      "Total params: 20,190,209\n",
      "Trainable params: 20,190,113\n",
      "Non-trainable params: 96\n",
      "_________________________________________________________________\n",
      "Epoch 1/30\n"
     ]
    },
    {
     "name": "stderr",
     "output_type": "stream",
     "text": [
      "2023-01-08 20:10:30.322631: I tensorflow/core/grappler/optimizers/custom_graph_optimizer_registry.cc:112] Plugin optimizer for device_type GPU is enabled.\n"
     ]
    },
    {
     "name": "stdout",
     "output_type": "stream",
     "text": [
      "32/32 [==============================] - ETA: 0s - loss: 1.6976 - accuracy: 0.8340"
     ]
    },
    {
     "name": "stderr",
     "output_type": "stream",
     "text": [
      "2023-01-08 20:10:40.226287: I tensorflow/core/grappler/optimizers/custom_graph_optimizer_registry.cc:112] Plugin optimizer for device_type GPU is enabled.\n"
     ]
    },
    {
     "name": "stdout",
     "output_type": "stream",
     "text": [
      "32/32 [==============================] - 12s 374ms/step - loss: 1.6976 - accuracy: 0.8340 - val_loss: 0.6823 - val_accuracy: 0.8301\n",
      "Epoch 2/30\n",
      "32/32 [==============================] - 11s 354ms/step - loss: 0.2563 - accuracy: 0.8467 - val_loss: 0.5583 - val_accuracy: 0.8145\n",
      "Epoch 3/30\n",
      "32/32 [==============================] - 10s 324ms/step - loss: 0.1982 - accuracy: 0.8467 - val_loss: 0.7285 - val_accuracy: 0.5469\n",
      "Epoch 4/30\n",
      "32/32 [==============================] - 10s 322ms/step - loss: 0.1862 - accuracy: 0.8770 - val_loss: 0.7368 - val_accuracy: 0.6094\n",
      "Epoch 5/30\n",
      "32/32 [==============================] - 10s 323ms/step - loss: 0.1714 - accuracy: 0.9209 - val_loss: 0.7608 - val_accuracy: 0.5996\n",
      "Epoch 6/30\n",
      "32/32 [==============================] - 10s 327ms/step - loss: 0.1662 - accuracy: 0.9355 - val_loss: 0.8210 - val_accuracy: 0.5098\n",
      "Epoch 7/30\n",
      "32/32 [==============================] - 11s 332ms/step - loss: 0.1521 - accuracy: 0.9375 - val_loss: 0.7724 - val_accuracy: 0.5957\n",
      "Epoch 8/30\n",
      "32/32 [==============================] - 10s 321ms/step - loss: 0.1621 - accuracy: 0.9482 - val_loss: 0.6430 - val_accuracy: 0.7383\n",
      "Epoch 9/30\n",
      "32/32 [==============================] - 10s 326ms/step - loss: 0.1475 - accuracy: 0.9453 - val_loss: 0.5870 - val_accuracy: 0.8301\n",
      "Epoch 10/30\n",
      "32/32 [==============================] - 11s 348ms/step - loss: 0.1571 - accuracy: 0.9453 - val_loss: 0.4491 - val_accuracy: 0.8066\n",
      "Epoch 11/30\n",
      "32/32 [==============================] - 10s 325ms/step - loss: 0.1487 - accuracy: 0.9414 - val_loss: 0.3914 - val_accuracy: 0.8086\n",
      "Epoch 12/30\n",
      "32/32 [==============================] - 10s 323ms/step - loss: 0.1470 - accuracy: 0.9443 - val_loss: 0.3784 - val_accuracy: 0.8203\n",
      "Epoch 13/30\n",
      "32/32 [==============================] - 11s 353ms/step - loss: 0.1450 - accuracy: 0.9395 - val_loss: 0.3381 - val_accuracy: 0.8320\n",
      "Epoch 14/30\n",
      "32/32 [==============================] - 11s 333ms/step - loss: 0.1385 - accuracy: 0.9541 - val_loss: 0.3235 - val_accuracy: 0.8164\n",
      "Epoch 15/30\n",
      "32/32 [==============================] - 10s 329ms/step - loss: 0.1522 - accuracy: 0.9453 - val_loss: 0.3044 - val_accuracy: 0.8281\n",
      "Epoch 16/30\n",
      "32/32 [==============================] - 10s 328ms/step - loss: 0.1357 - accuracy: 0.9600 - val_loss: 0.2779 - val_accuracy: 0.8906\n",
      "Epoch 17/30\n",
      "32/32 [==============================] - 10s 320ms/step - loss: 0.1383 - accuracy: 0.9531 - val_loss: 0.2635 - val_accuracy: 0.8477\n",
      "Epoch 18/30\n",
      "32/32 [==============================] - 11s 335ms/step - loss: 0.1334 - accuracy: 0.9629 - val_loss: 0.2480 - val_accuracy: 0.8301\n",
      "Epoch 19/30\n",
      "32/32 [==============================] - 11s 338ms/step - loss: 0.1388 - accuracy: 0.9570 - val_loss: 0.4013 - val_accuracy: 0.8301\n",
      "Epoch 20/30\n",
      "32/32 [==============================] - 10s 318ms/step - loss: 0.1467 - accuracy: 0.9570 - val_loss: 0.4015 - val_accuracy: 0.8301\n",
      "Epoch 21/30\n",
      "32/32 [==============================] - 10s 323ms/step - loss: 0.1250 - accuracy: 0.9570 - val_loss: 0.9192 - val_accuracy: 0.8301\n",
      "Epoch 22/30\n",
      "32/32 [==============================] - 11s 332ms/step - loss: 0.1447 - accuracy: 0.9521 - val_loss: 0.3567 - val_accuracy: 0.8398\n",
      "Epoch 23/30\n",
      "32/32 [==============================] - 10s 327ms/step - loss: 0.1248 - accuracy: 0.9658 - val_loss: 0.6889 - val_accuracy: 0.8301\n",
      "Epoch 24/30\n",
      "32/32 [==============================] - 10s 323ms/step - loss: 0.1233 - accuracy: 0.9678 - val_loss: 1.1925 - val_accuracy: 0.8301\n",
      "Epoch 25/30\n",
      "32/32 [==============================] - 10s 316ms/step - loss: 0.1364 - accuracy: 0.9600 - val_loss: 0.3734 - val_accuracy: 0.8301\n",
      "Epoch 26/30\n",
      "32/32 [==============================] - 10s 314ms/step - loss: 0.1179 - accuracy: 0.9580 - val_loss: 0.3617 - val_accuracy: 0.8301\n",
      "Epoch 27/30\n",
      "32/32 [==============================] - 10s 319ms/step - loss: 0.1170 - accuracy: 0.9639 - val_loss: 0.6740 - val_accuracy: 0.8301\n",
      "Epoch 28/30\n",
      "32/32 [==============================] - 10s 330ms/step - loss: 0.1202 - accuracy: 0.9609 - val_loss: 1.1687 - val_accuracy: 0.8301\n",
      "Epoch 29/30\n",
      "32/32 [==============================] - 10s 327ms/step - loss: 0.1123 - accuracy: 0.9600 - val_loss: 0.4423 - val_accuracy: 0.8301\n",
      "Epoch 30/30\n",
      "32/32 [==============================] - 10s 314ms/step - loss: 0.1094 - accuracy: 0.9678 - val_loss: 0.8486 - val_accuracy: 0.8301\n"
     ]
    }
   ],
   "source": [
    "atlas_images_base = os.path.join(\"data\", \"GROUP_images\")\n",
    "files_images = os.listdir(atlas_images_base)\n",
    "atlas_images = [os.path.join(atlas_images_base, fil) for fil in files_images if \".nii\" in fil]\n",
    "print(atlas_images)\n",
    "atlas_images.sort()\n",
    "slices = get_slices_from_paths(atlas_images)\n",
    "model, shape = train_classifier(slices, label)"
   ]
  },
  {
   "cell_type": "code",
   "execution_count": 14,
   "id": "8583984b",
   "metadata": {},
   "outputs": [
    {
     "name": "stdout",
     "output_type": "stream",
     "text": [
      "1.0\n"
     ]
    },
    {
     "data": {
      "text/plain": "<Figure size 640x480 with 1 Axes>",
      "image/png": "[encoded data removed]"
     },
     "metadata": {},
     "output_type": "display_data"
    }
   ],
   "source": [
    "slices = get_slices_from_paths(atlas_images)\n",
    "images_preprocessed = preprocess_images(slices, shape)\n",
    "x_train = np.array(images_preprocessed[0:1024])\n",
    "y_train = np.array(label[0:1024])\n",
    "x_val = np.array(images_preprocessed[1024:])\n",
    "y_val = np.array(label[1024:])\n",
    "y_pred = model.predict(x_train)\n",
    "\n",
    "import matplotlib.pyplot as plt\n",
    "plt.plot(range(len(y_train)), y_train)\n",
    "plt.plot(range(len(y_pred)), y_pred)\n",
    "plt.show()\n",
    "\n",
    "a = y_pred[y_pred>0.05]"
   ]
  },
  {
   "cell_type": "code",
   "execution_count": null,
   "outputs": [],
   "source": [],
   "metadata": {
    "collapsed": false
   }
  },
  {
   "cell_type": "code",
   "execution_count": null,
   "id": "bb68a9ed",
   "metadata": {},
   "outputs": [],
   "source": [
    "\n",
    "\n",
    "\n",
    "'''\n",
    "# load group image \n",
    "im_base_dir = os.path.join(\"data\", \"GROUP_images\")\n",
    "g1_53_image = sitk.ReadImage(os.path.join(im_base_dir, \"g1_53_image.nii.gz\"), sitk.sitkFloat32, imageIO=\"NiftiImageIO\")\n",
    "g1_54_image = sitk.ReadImage(os.path.join(im_base_dir, \"g1_54_image.nii.gz\"), sitk.sitkFloat32, imageIO=\"NiftiImageIO\")\n",
    "g1_55_image = sitk.ReadImage(os.path.join(im_base_dir, \"g1_55_image.nii.gz\"), sitk.sitkFloat32, imageIO=\"NiftiImageIO\")\n",
    "\n",
    "# different size!!!!\n",
    "print(g1_55_image.GetSize())\n",
    "print(g1_54_image.GetSize())\n",
    "print(g1_53_image.GetSize())\n",
    "\n",
    "g1_53_slices = image_to_slices(g1_53_image)\n",
    "g1_54_slices = image_to_slices(g1_54_image)\n",
    "g1_55_slices = image_to_slices(g1_55_image)\n",
    "\n",
    "\n",
    "#slices = g1_53_slices + g1_54_slices + g1_55_slices\n",
    "\n",
    "'''"
   ]
  },
  {
   "cell_type": "code",
   "execution_count": null,
   "outputs": [],
   "source": [],
   "metadata": {
    "collapsed": false
   }
  }
 ],
 "metadata": {
  "kernelspec": {
   "display_name": "Python 3 (ipykernel)",
   "language": "python",
   "name": "python3"
  },
  "language_info": {
   "codemirror_mode": {
    "name": "ipython",
    "version": 3
   },
   "file_extension": ".py",
   "mimetype": "text/x-python",
   "name": "python",
   "nbconvert_exporter": "python",
   "pygments_lexer": "ipython3",
   "version": "3.8.12"
  }
 },
 "nbformat": 4,
 "nbformat_minor": 5
}
